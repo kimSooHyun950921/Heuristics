{
 "cells": [
  {
   "cell_type": "code",
   "execution_count": 4,
   "metadata": {},
   "outputs": [
    {
     "data": {
      "text/html": [
       "<div>\n",
       "<style scoped>\n",
       "    .dataframe tbody tr th:only-of-type {\n",
       "        vertical-align: middle;\n",
       "    }\n",
       "\n",
       "    .dataframe tbody tr th {\n",
       "        vertical-align: top;\n",
       "    }\n",
       "\n",
       "    .dataframe thead th {\n",
       "        text-align: right;\n",
       "    }\n",
       "</style>\n",
       "<table border=\"1\" class=\"dataframe\">\n",
       "  <thead>\n",
       "    <tr style=\"text-align: right;\">\n",
       "      <th></th>\n",
       "      <th>Name</th>\n",
       "      <th>Age</th>\n",
       "      <th>Address</th>\n",
       "      <th>Qualification</th>\n",
       "    </tr>\n",
       "  </thead>\n",
       "  <tbody>\n",
       "    <tr>\n",
       "      <th>0</th>\n",
       "      <td>Jai</td>\n",
       "      <td>27</td>\n",
       "      <td>Nagpur</td>\n",
       "      <td>Msc</td>\n",
       "    </tr>\n",
       "    <tr>\n",
       "      <th>1</th>\n",
       "      <td>Anuj</td>\n",
       "      <td>24</td>\n",
       "      <td>Kanpur</td>\n",
       "      <td>MA</td>\n",
       "    </tr>\n",
       "    <tr>\n",
       "      <th>2</th>\n",
       "      <td>Jai</td>\n",
       "      <td>22</td>\n",
       "      <td>Allahabad</td>\n",
       "      <td>MCA</td>\n",
       "    </tr>\n",
       "    <tr>\n",
       "      <th>3</th>\n",
       "      <td>Princi</td>\n",
       "      <td>32</td>\n",
       "      <td>Kannuaj</td>\n",
       "      <td>Phd</td>\n",
       "    </tr>\n",
       "    <tr>\n",
       "      <th>4</th>\n",
       "      <td>Gaurav</td>\n",
       "      <td>33</td>\n",
       "      <td>Jaunpur</td>\n",
       "      <td>B.Tech</td>\n",
       "    </tr>\n",
       "    <tr>\n",
       "      <th>5</th>\n",
       "      <td>Anuj</td>\n",
       "      <td>36</td>\n",
       "      <td>Kanpur</td>\n",
       "      <td>B.com</td>\n",
       "    </tr>\n",
       "    <tr>\n",
       "      <th>6</th>\n",
       "      <td>Princi</td>\n",
       "      <td>27</td>\n",
       "      <td>Allahabad</td>\n",
       "      <td>Msc</td>\n",
       "    </tr>\n",
       "    <tr>\n",
       "      <th>7</th>\n",
       "      <td>Abhi</td>\n",
       "      <td>32</td>\n",
       "      <td>Aligarh</td>\n",
       "      <td>MA</td>\n",
       "    </tr>\n",
       "    <tr>\n",
       "      <th>8</th>\n",
       "      <td>Princi</td>\n",
       "      <td>1</td>\n",
       "      <td>가나</td>\n",
       "      <td>Phd</td>\n",
       "    </tr>\n",
       "  </tbody>\n",
       "</table>\n",
       "</div>"
      ],
      "text/plain": [
       "     Name  Age    Address Qualification\n",
       "0     Jai   27     Nagpur           Msc\n",
       "1    Anuj   24     Kanpur            MA\n",
       "2     Jai   22  Allahabad           MCA\n",
       "3  Princi   32    Kannuaj           Phd\n",
       "4  Gaurav   33    Jaunpur        B.Tech\n",
       "5    Anuj   36     Kanpur         B.com\n",
       "6  Princi   27  Allahabad           Msc\n",
       "7    Abhi   32    Aligarh            MA\n",
       "8  Princi    1         가나           Phd"
      ]
     },
     "execution_count": 4,
     "metadata": {},
     "output_type": "execute_result"
    }
   ],
   "source": [
    "import pandas as pd  \n",
    "   \n",
    "# Define a dictionary containing employee data  \n",
    "data1 = {'Name':['Jai', 'Anuj', 'Jai', 'Princi',  \n",
    "                 'Gaurav', 'Anuj', 'Princi', 'Abhi','Princi'],  \n",
    "        'Age':[27, 24, 22, 32,  \n",
    "               33, 36, 27, 32, 1],  \n",
    "        'Address':['Nagpur', 'Kanpur', 'Allahabad', 'Kannuaj', \n",
    "                   'Jaunpur', 'Kanpur', 'Allahabad', 'Aligarh','가나'],  \n",
    "        'Qualification':['Msc', 'MA', 'MCA', 'Phd', \n",
    "                         'B.Tech', 'B.com', 'Msc', 'MA','Phd']}  \n",
    "     \n",
    "   \n",
    "# Convert the dictionary into DataFrame   \n",
    "df = pd.DataFrame(data1) \n",
    "\n",
    "df"
   ]
  },
  {
   "cell_type": "code",
   "execution_count": 6,
   "metadata": {},
   "outputs": [
    {
     "name": "stdout",
     "output_type": "stream",
     "text": [
      "Abhi ['Aligarh']\n",
      "Aligarh\n",
      "Anuj ['Kanpur', 'Kanpur']\n",
      "Kanpur\n",
      "Gaurav ['Jaunpur']\n",
      "Jaunpur\n",
      "Jai ['Nagpur', 'Allahabad']\n",
      "Allahabad\n",
      "Princi ['Kannuaj', 'Allahabad', '가나']\n",
      "가나\n"
     ]
    }
   ],
   "source": [
    "# iterating an element \n",
    "# of group \n",
    "  \n",
    "grp = df.groupby('Name')\n",
    "for name, group in grp:\n",
    "    print(name, list(group.Address))\n",
    "    print(group['Address'].iloc[-1])\n",
    "    #for k in group.to_list():\n",
    "    #    print(\"name\",name,\"k\", k)\n",
    "    #    print(df.iloc[k]['Address'])\n"
   ]
  },
  {
   "cell_type": "code",
   "execution_count": 13,
   "metadata": {},
   "outputs": [
    {
     "data": {
      "text/plain": [
       "7.567216634750366"
      ]
     },
     "execution_count": 13,
     "metadata": {},
     "output_type": "execute_result"
    }
   ],
   "source": [
    "import time\n",
    "test = list(range(100000000))\n",
    "s_time = time.time()\n",
    "str(test)\n",
    "e_time = time.time()\n",
    "e_time - s_time"
   ]
  },
  {
   "cell_type": "code",
   "execution_count": 16,
   "metadata": {},
   "outputs": [],
   "source": [
    "test_str = [str(i) for i in test]"
   ]
  },
  {
   "cell_type": "code",
   "execution_count": 19,
   "metadata": {},
   "outputs": [
    {
     "data": {
      "text/plain": [
       "1.6561603546142578"
      ]
     },
     "execution_count": 19,
     "metadata": {},
     "output_type": "execute_result"
    }
   ],
   "source": [
    "s_time = time.time()\n",
    "k = ','.join(test_str)\n",
    "e_time = time.time()\n",
    "e_time - s_time"
   ]
  },
  {
   "cell_type": "code",
   "execution_count": 22,
   "metadata": {},
   "outputs": [
    {
     "data": {
      "text/plain": [
       "'0'"
      ]
     },
     "execution_count": 22,
     "metadata": {},
     "output_type": "execute_result"
    }
   ],
   "source": [
    "k[0]"
   ]
  },
  {
   "cell_type": "code",
   "execution_count": null,
   "metadata": {},
   "outputs": [],
   "source": []
  },
  {
   "cell_type": "code",
   "execution_count": null,
   "metadata": {},
   "outputs": [],
   "source": []
  }
 ],
 "metadata": {
  "kernelspec": {
   "display_name": "Bitcoin",
   "language": "python",
   "name": "bitcoin"
  },
  "language_info": {
   "codemirror_mode": {
    "name": "ipython",
    "version": 3
   },
   "file_extension": ".py",
   "mimetype": "text/x-python",
   "name": "python",
   "nbconvert_exporter": "python",
   "pygments_lexer": "ipython3",
   "version": "3.8.3"
  }
 },
 "nbformat": 4,
 "nbformat_minor": 4
}
