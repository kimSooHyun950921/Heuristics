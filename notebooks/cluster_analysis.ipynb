{
 "cells": [
  {
   "cell_type": "code",
   "execution_count": 18,
   "metadata": {},
   "outputs": [],
   "source": [
    "import collections\n",
    "\n",
    "def solution(bridge_length, weight, truck_weights):\n",
    "    answer = 0\n",
    "    \n",
    "    queue = collections.deque([0]*bridge_length)\n",
    "    trucks = collections.deque(truck_weights)\n",
    "    \n",
    "    i = 0\n",
    "    while sum(queue) != 0 or len(trucks) != 0:\n",
    "        answer = answer + 1\n",
    "        queue.popleft()\n",
    "        if len(trucks) > 0 and (sum(queue) + trucks[0]) <= weight:\n",
    "            queue.append(trucks.popleft())\n",
    "        else:\n",
    "            # fast track\n",
    "            while len(trucks) > 0 and len(queue) > 1 and queue[0] == 0:\n",
    "                answer = answer + 1\n",
    "                queue.popleft()\n",
    "                queue.append(0)\n",
    "#                 print(f'Fast {answer} {queue}')\n",
    "            queue.append(0)\n",
    "        print(f'{answer} {queue} {trucks}')\n",
    "\n",
    "    return answer"
   ]
  },
  {
   "cell_type": "code",
   "execution_count": 19,
   "metadata": {},
   "outputs": [
    {
     "name": "stdout",
     "output_type": "stream",
     "text": [
      "1 deque([0, 7]) deque([4, 5, 6])\n",
      "2 deque([7, 0]) deque([4, 5, 6])\n",
      "3 deque([0, 4]) deque([5, 6])\n",
      "4 deque([4, 5]) deque([6])\n",
      "5 deque([5, 0]) deque([6])\n",
      "6 deque([0, 6]) deque([])\n",
      "7 deque([6, 0]) deque([])\n",
      "8 deque([0, 0]) deque([])\n"
     ]
    },
    {
     "data": {
      "text/plain": [
       "8"
      ]
     },
     "execution_count": 19,
     "metadata": {},
     "output_type": "execute_result"
    }
   ],
   "source": [
    "solution(2, 10, [7,4,5,6])"
   ]
  },
  {
   "cell_type": "code",
   "execution_count": 23,
   "metadata": {},
   "outputs": [],
   "source": [
    "import collections\n",
    "\n",
    "def solution(bridge_length, weight, truck_weights):\n",
    "    answer = 0\n",
    "    \n",
    "    queue = collections.deque([0]*bridge_length)\n",
    "    trucks = collections.deque(truck_weights)\n",
    "    \n",
    "    while sum(queue) != 0 or len(trucks) != 0:\n",
    "        if len(trucks) == 0:\n",
    "            break\n",
    "        answer = answer + 1\n",
    "        queue.popleft()\n",
    "        if (sum(queue) + trucks[0]) <= weight:\n",
    "            queue.append(trucks.popleft())\n",
    "        else:\n",
    "            # fast track\n",
    "            while len(queue) > 1 and queue[0] == 0:\n",
    "                answer = answer + 1\n",
    "                queue.popleft()\n",
    "                queue.append(0)\n",
    "            queue.append(0)\n",
    "\n",
    "    while sum(queue) > 0:\n",
    "        answer = answer + 1\n",
    "        queue.popleft()\n",
    "            \n",
    "    return answer"
   ]
  },
  {
   "cell_type": "code",
   "execution_count": 24,
   "metadata": {},
   "outputs": [
    {
     "data": {
      "text/plain": [
       "101"
      ]
     },
     "execution_count": 24,
     "metadata": {},
     "output_type": "execute_result"
    }
   ],
   "source": [
    "# 100\t100\t[10]\t101\n",
    "solution(100, 100, [10])"
   ]
  },
  {
   "cell_type": "code",
   "execution_count": null,
   "metadata": {},
   "outputs": [],
   "source": [
    "import collections\n",
    "\n",
    "def solution(bridge_length, weight, truck_weights):\n",
    "    answer = 0\n",
    "    \n",
    "    queue = collections.deque([0]*bridge_length)\n",
    "    trucks = collections.deque(truck_weights)\n",
    "    \n",
    "    load = 0\n",
    "    while load != 0 or len(trucks) != 0:\n",
    "        if len(trucks) == 0:\n",
    "            break\n",
    "        answer = answer + 1\n",
    "        load = load - queue.popleft()\n",
    "        if (load + trucks[0]) <= weight:\n",
    "            t = trucks.popleft()\n",
    "            queue.append(t)\n",
    "            load = load + t\n",
    "        else:\n",
    "            queue.append(0)\n",
    "\n",
    "    while load > 0:\n",
    "        answer = answer + 1\n",
    "        load = load - queue.popleft()\n",
    "            \n",
    "    return answer"
   ]
  }
 ],
 "metadata": {
  "kernelspec": {
   "display_name": "Python 3",
   "language": "python",
   "name": "python3"
  },
  "language_info": {
   "codemirror_mode": {
    "name": "ipython",
    "version": 3
   },
   "file_extension": ".py",
   "mimetype": "text/x-python",
   "name": "python",
   "nbconvert_exporter": "python",
   "pygments_lexer": "ipython3",
   "version": "3.8.3"
  }
 },
 "nbformat": 4,
 "nbformat_minor": 4
}
