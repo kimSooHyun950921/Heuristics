{
 "cells": [
  {
   "cell_type": "code",
   "execution_count": 1,
   "metadata": {},
   "outputs": [],
   "source": [
    "import os\n",
    "import sys\n",
    "import time\n",
    "import sqlite3\n",
    "import multiprocessing\n",
    "sys.path.append('/home/dnlab/Jupyter-Bitcoin/Heuristics/')\n",
    "from secret import rpc_user, rpc_password\n",
    "from bitcoinrpc.authproxy import AuthServiceProxy, JSONRPCException\n",
    "\n",
    "import cluster_db_query as cdq\n",
    "import db_query as dq\n",
    "\n",
    "rpc_ip = '127.0.0.1'\n",
    "rpc_port = '8332'\n",
    "timeout = 300"
   ]
  },
  {
   "cell_type": "code",
   "execution_count": 2,
   "metadata": {},
   "outputs": [],
   "source": [
    "def is_mi_cond(in_addrs, out_addrs):\n",
    "    if in_addrs == None or out_addrs == None:\n",
    "        return False\n",
    "    if len(out_addrs) == 1 and len(in_addrs) >= 2:\n",
    "        return True\n",
    "    return False"
   ]
  },
  {
   "cell_type": "code",
   "execution_count": 3,
   "metadata": {},
   "outputs": [],
   "source": [
    "def get_rpc():\n",
    "    return AuthServiceProxy(f'http://{rpc_user}:{rpc_password}@{rpc_ip}:{rpc_port}', timeout=timeout)\n",
    "\n",
    "def rpc_command(height):\n",
    "    while True:\n",
    "        try:\n",
    "            rpc_connection = get_rpc()\n",
    "            block_hash = rpc_connection.getblockhash(height)\n",
    "            txes = rpc_connection.getblock(block_hash)['tx']\n",
    "            break\n",
    "        except OSError as e:\n",
    "            print(\"Cannot assign requested address!\")\n",
    "            time.sleep(3)\n",
    "    return txes"
   ]
  },
  {
   "cell_type": "code",
   "execution_count": 4,
   "metadata": {},
   "outputs": [],
   "source": [
    "cluster_db_path = '/home/dnlab/Jupyter-Bitcoin/Heuristics/DB/cluster_8_multi.db'\n",
    "index_db_path = '/home/dnlab/Jupyter-Bitcoin/index.db'\n",
    "i_conn = sqlite3.connect(index_db_path)\n",
    "c_conn = sqlite3.connect(cluster_db_path)\n",
    "icur = i_conn.cursor()\n",
    "ccur = c_conn.cursor()"
   ]
  },
  {
   "cell_type": "code",
   "execution_count": 5,
   "metadata": {},
   "outputs": [],
   "source": [
    "# 가변길이\n",
    "height = 100000"
   ]
  },
  {
   "cell_type": "code",
   "execution_count": null,
   "metadata": {},
   "outputs": [
    {
     "name": "stdout",
     "output_type": "stream",
     "text": [
      "0\n",
      "6730\n",
      "2094734\n"
     ]
    }
   ],
   "source": [
    "false_list = list()\n",
    "tx_count = 0\n",
    "for height in range(0, 620000):\n",
    "    txes = rpc_command(height)\n",
    "    #print(\"tx length:\", len(txes))\n",
    "    for tx in txes:\n",
    "        \n",
    "        tx_indexes = dq.get_txid(tx)\n",
    "        in_addrs = dq.get_addr_txin(tx_indexes)\n",
    "        out_addrs = dq.get_addr_txout(tx_indexes)\n",
    "        #print(f'tx: {tx_indexes}, in_addrs:{in_addrs}, out_addrs:{out_addrs}')\n",
    "        if is_mi_cond(in_addrs, out_addrs):\n",
    "            tx_count += 1\n",
    "            #print(f'tx: {tx_indexes}, in_addrs:{in_addrs}, out_addrs:{out_addrs}')\n",
    "            #cluster_set = cdq.get_cluster_number(in_addrs)\n",
    "            #if len(cluster_set) > 1:\n",
    "            #    print(\"[TEST CASE FALSE] different cluster_number\", tx_indexes, len(in_addrs), len(out_addrs), cluster_set)\n",
    "            #    false_case = {'false_num':0, 'tx':tx_indexes, 'in_addrs': in_addrs, \\\n",
    "            #                  'out_addrs':out_addrs, 'cluster_set':cluster_set}\n",
    "            #    false_list.append(false_case)\n",
    "            #elif cluster_set.pop() == -1:\n",
    "            #    print(\"[TEST CASE FALSE] not clustered tx:\", tx_indexes,\", in_addrs: \", len(in_addrs), len(out_addrs), \", cluster_set\", '{-1}')\n",
    "            #    false_case = {'false_num':1, 'tx':tx, 'in_addrs': in_addrs, \\\n",
    "            #                  'out_addrs':out_addrs, 'cluster_set':{-1}}\n",
    "            #    print(in_addrs)\n",
    "            #    false_list.append(false_case)\n",
    "            #else:\n",
    "            #    print(\"*TEST CASE PASS*\")\n",
    "    if height % 100000 == 0:\n",
    "        print(tx_count)\n"
   ]
  },
  {
   "cell_type": "code",
   "execution_count": 15,
   "metadata": {},
   "outputs": [],
   "source": [
    "import csv\n",
    "with open('/home/dnlab/Jupyter-Bitcoin/Heuristics/debug/20070013_single.csv', 'a') as f:\n",
    "    fieldnames = ['false_num', 'tx', 'in_addrs','out_addrs','cluster_set']\n",
    "    writer = csv.DictWriter(f, fieldnames=fieldnames)\n",
    "    writer.writeheader()\n",
    "    for i in false_list:\n",
    "        writer.writerow(i)     "
   ]
  },
  {
   "cell_type": "code",
   "execution_count": 16,
   "metadata": {},
   "outputs": [
    {
     "data": {
      "text/plain": [
       "6730"
      ]
     },
     "execution_count": 16,
     "metadata": {},
     "output_type": "execute_result"
    }
   ],
   "source": [
    "tx_count#216573\n"
   ]
  }
 ],
 "metadata": {
  "kernelspec": {
   "display_name": "Bitcoin",
   "language": "python",
   "name": "bitcoin"
  },
  "language_info": {
   "codemirror_mode": {
    "name": "ipython",
    "version": 3
   },
   "file_extension": ".py",
   "mimetype": "text/x-python",
   "name": "python",
   "nbconvert_exporter": "python",
   "pygments_lexer": "ipython3",
   "version": "3.8.3"
  }
 },
 "nbformat": 4,
 "nbformat_minor": 4
}
