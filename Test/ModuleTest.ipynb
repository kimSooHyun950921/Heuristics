{
 "cells": [
  {
   "cell_type": "code",
   "execution_count": 28,
   "metadata": {},
   "outputs": [],
   "source": [
    "import sys\n",
    "import sqlite3\n",
    "import numpy as np\n",
    "import unittest\n",
    "from unittest import TestCase, mock\n",
    "sys.path.append('/home/dnlab/Jupyter-Bitcoin/Heuristics/')\n",
    "import mi_mp as mm\n",
    "import db_query as dq\n",
    "import cluster_db_query as cdq"
   ]
  },
  {
   "cell_type": "code",
   "execution_count": 45,
   "metadata": {},
   "outputs": [],
   "source": [
    "class QueryTest(unittest.TestCase):\n",
    "    \n",
    "    def __init__(self, start, end):\n",
    "        self.hash_list = self.get_hash(start, end)\n",
    "        \n",
    "    def connect_db(self):\n",
    "        db_index = '/home/dnlab/Jupyter-Bitcoin/index.db'\n",
    "        index_conn = sqlite3.connect(db_index)\n",
    "        cur = index_conn.cursor()\n",
    "        return cur\n",
    "        \n",
    "        \n",
    "    def get_hash(self, start, end):\n",
    "        hash_list = list()\n",
    "        cur = self.connect_db()\n",
    "        cur.execute(f'''SELECT DISTINCT txhash FROM TxID WHERE id BETWEEN {start} and {end}''')     \n",
    "        for i in cur.fetchall():\n",
    "            hash_list.append(i[0])\n",
    "        return hash_list\n",
    "    \n",
    "\n",
    "    def test_get_txid(self):\n",
    "       # for i in self.hash_list:\n",
    "            #print(dq.get_txid(i))\n",
    "            if type(dq.get_txid('cb6e55b274a3fd0e1495740f1f185e207ae5602b1899b806bba9856ef9bce37d ')) != int:\n",
    "                print(\"[ERROR]\")\n",
    "        \n",
    "        \n",
    "    def test_update_cluster_many(self, test_data):\n",
    "        sample_address_list = np.arange(test_data)[1:]\n",
    "        sample_cluster_num = [test_data] * len(sample_address_list)\n",
    "        sample_data = list(zip(sample_address_list, sample_cluster_num))\n",
    "        print(sample_data[0:100])\n",
    "        \n",
    "        cdq.begin_transactions()\n",
    "        cdq.update_cluster_many(sample_data)\n",
    "        cdq.commit_transactions()\n",
    "        \n",
    "        result = cdq.find_addr_from_cluster_num(test_data)\n",
    "        print(result)\n",
    "        \n",
    "        if len(sample_address_list) != len(result):\n",
    "            return 1, False\n",
    "        \n",
    "        for addr in result:\n",
    "            if not addr in sample_address_list:\n",
    "                return 2, False\n",
    "        return True\n",
    "        "
   ]
  },
  {
   "cell_type": "code",
   "execution_count": 46,
   "metadata": {},
   "outputs": [],
   "source": [
    "qt = QueryTest(1,1000000)\n"
   ]
  },
  {
   "cell_type": "code",
   "execution_count": 47,
   "metadata": {},
   "outputs": [
    {
     "name": "stdout",
     "output_type": "stream",
     "text": [
      "[ERROR] txhash: cb6e55b274a3fd0e1495740f1f185e207ae5602b1899b806bba9856ef9bce37d  tx_indexes: [] get_txid list index out of range\n",
      "[ERROR]\n"
     ]
    }
   ],
   "source": [
    "qt.test_get_txid()"
   ]
  },
  {
   "cell_type": "code",
   "execution_count": 48,
   "metadata": {},
   "outputs": [
    {
     "name": "stdout",
     "output_type": "stream",
     "text": [
      "[(1, 20000), (2, 20000), (3, 20000), (4, 20000), (5, 20000), (6, 20000), (7, 20000), (8, 20000), (9, 20000), (10, 20000), (11, 20000), (12, 20000), (13, 20000), (14, 20000), (15, 20000), (16, 20000), (17, 20000), (18, 20000), (19, 20000), (20, 20000), (21, 20000), (22, 20000), (23, 20000), (24, 20000), (25, 20000), (26, 20000), (27, 20000), (28, 20000), (29, 20000), (30, 20000), (31, 20000), (32, 20000), (33, 20000), (34, 20000), (35, 20000), (36, 20000), (37, 20000), (38, 20000), (39, 20000), (40, 20000), (41, 20000), (42, 20000), (43, 20000), (44, 20000), (45, 20000), (46, 20000), (47, 20000), (48, 20000), (49, 20000), (50, 20000), (51, 20000), (52, 20000), (53, 20000), (54, 20000), (55, 20000), (56, 20000), (57, 20000), (58, 20000), (59, 20000), (60, 20000), (61, 20000), (62, 20000), (63, 20000), (64, 20000), (65, 20000), (66, 20000), (67, 20000), (68, 20000), (69, 20000), (70, 20000), (71, 20000), (72, 20000), (73, 20000), (74, 20000), (75, 20000), (76, 20000), (77, 20000), (78, 20000), (79, 20000), (80, 20000), (81, 20000), (82, 20000), (83, 20000), (84, 20000), (85, 20000), (86, 20000), (87, 20000), (88, 20000), (89, 20000), (90, 20000), (91, 20000), (92, 20000), (93, 20000), (94, 20000), (95, 20000), (96, 20000), (97, 20000), (98, 20000), (99, 20000), (100, 20000)]\n",
      "[]\n"
     ]
    },
    {
     "data": {
      "text/plain": [
       "(1, False)"
      ]
     },
     "execution_count": 48,
     "metadata": {},
     "output_type": "execute_result"
    }
   ],
   "source": [
    "qt.test_update_cluster_many(20000)"
   ]
  },
  {
   "cell_type": "code",
   "execution_count": null,
   "metadata": {},
   "outputs": [],
   "source": []
  }
 ],
 "metadata": {
  "kernelspec": {
   "display_name": "Python 3",
   "language": "python",
   "name": "python3"
  },
  "language_info": {
   "codemirror_mode": {
    "name": "ipython",
    "version": 3
   },
   "file_extension": ".py",
   "mimetype": "text/x-python",
   "name": "python",
   "nbconvert_exporter": "python",
   "pygments_lexer": "ipython3",
   "version": "3.8.3"
  }
 },
 "nbformat": 4,
 "nbformat_minor": 4
}
