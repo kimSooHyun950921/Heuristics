{
 "cells": [
  {
   "cell_type": "code",
   "execution_count": 1,
   "metadata": {},
   "outputs": [],
   "source": [
    "import sys\n",
    "import sqlite3\n",
    "import unittest\n",
    "from unittest import TestCase, mock\n",
    "sys.path.append('/home/dnlab/00-kisa/01-pythoncode/JsonRPC_DB/Heuristics/')\n",
    "import mi_mp as mm\n",
    "import db_query as dq\n",
    "import cluster_db_query as cdq"
   ]
  },
  {
   "cell_type": "code",
   "execution_count": 21,
   "metadata": {},
   "outputs": [],
   "source": [
    "class QueryTest(unittest.TestCase):\n",
    "    \n",
    "    def __init__(self, start, end):\n",
    "        self.hash_list = self.get_hash(start, end)\n",
    "        \n",
    "    def connect_db(self):\n",
    "        db_index = '/media/dnlab/0602da39-763c-42b0-b186-f929ac6b3f66/index_620000.db'\n",
    "        index_conn = sqlite3.connect(db_index)\n",
    "        cur = index_conn.cursor()\n",
    "        return cur\n",
    "        \n",
    "        \n",
    "    def get_hash(self, start, end):\n",
    "        hash_list = list()\n",
    "        cur = self.connect_db()\n",
    "        cur.execute(f'''SELECT DISTINCT txhash FROM TxID WHERE id BETWEEN {start} and {end}''')     \n",
    "        for i in cur.fetchall():\n",
    "            hash_list.append(i[0])\n",
    "        return hash_list\n",
    "    \n",
    "\n",
    "    def test_get_txid(self):\n",
    "       # for i in self.hash_list:\n",
    "            #print(dq.get_txid(i))\n",
    "            if type(dq.get_txid('cb6e55b274a3fd0e1495740f1f185e207ae5602b1899b806bba9856ef9bce37d ')) != int:\n",
    "                print(\"[ERROR]\")\n",
    "        "
   ]
  },
  {
   "cell_type": "code",
   "execution_count": 22,
   "metadata": {},
   "outputs": [],
   "source": [
    "qt = QueryTest(1,1000000)\n"
   ]
  },
  {
   "cell_type": "code",
   "execution_count": 23,
   "metadata": {},
   "outputs": [],
   "source": [
    "qt.test_get_txid()"
   ]
  },
  {
   "cell_type": "code",
   "execution_count": null,
   "metadata": {},
   "outputs": [],
   "source": []
  }
 ],
 "metadata": {
  "kernelspec": {
   "display_name": "Python 3",
   "language": "python",
   "name": "python3"
  },
  "language_info": {
   "codemirror_mode": {
    "name": "ipython",
    "version": 3
   },
   "file_extension": ".py",
   "mimetype": "text/x-python",
   "name": "python",
   "nbconvert_exporter": "python",
   "pygments_lexer": "ipython3",
   "version": "3.7.7"
  }
 },
 "nbformat": 4,
 "nbformat_minor": 4
}
